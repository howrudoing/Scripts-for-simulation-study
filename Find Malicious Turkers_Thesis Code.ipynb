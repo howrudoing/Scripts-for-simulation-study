{
 "cells": [
  {
   "cell_type": "markdown",
   "id": "f27f3f96",
   "metadata": {},
   "source": [
    "## Read input and convert to pandas df"
   ]
  },
  {
   "cell_type": "code",
   "execution_count": null,
   "id": "b273f4c1",
   "metadata": {},
   "outputs": [],
   "source": [
    "import pandas as pd\n",
    "import chardet\n",
    "\n",
    "Raw_Response = \"xxx.csv\"\n",
    "# Auto encoding tool\n",
    "with open(Raw_Response, 'rb') as f:\n",
    "    enc = chardet.detect(f.read())  # or readline if the file is large\n",
    "\n",
    "df_raw_response= pd.read_csv(Raw_Response, encoding = enc['encoding'])\n",
    "df_raw_response"
   ]
  },
  {
   "cell_type": "code",
   "execution_count": null,
   "id": "79e59259",
   "metadata": {},
   "outputs": [],
   "source": [
    "# For more info: https://sparkbyexamples.com/pandas/pandas-drop-multiple-columns-by-index/\n",
    "df_raw_response = df_raw_response.drop(df_raw_response.columns[[1]],axis = 1)\n",
    "df_raw_response"
   ]
  },
  {
   "cell_type": "code",
   "execution_count": null,
   "id": "d43c6efd",
   "metadata": {},
   "outputs": [],
   "source": [
    "# computing number of rows\n",
    "rows = len(df_raw_response.axes[0])\n",
    " \n",
    "# computing number of columns\n",
    "cols = len(df_raw_response.axes[1])\n",
    "\n",
    "print(\"Number of Rows: \", rows)\n",
    "print(\"Number of Columns: \", cols)"
   ]
  },
  {
   "cell_type": "code",
   "execution_count": 4,
   "id": "086552d6",
   "metadata": {},
   "outputs": [],
   "source": [
    "df_raw_response = df_raw_response.rename(columns={'Worker ID: Please provide your MTurk Worker ID for authentication purpose': 'Worker_ID'})"
   ]
  },
  {
   "cell_type": "code",
   "execution_count": null,
   "id": "872c0007",
   "metadata": {
    "scrolled": true
   },
   "outputs": [],
   "source": [
    "list(df_raw_response)"
   ]
  },
  {
   "cell_type": "markdown",
   "id": "8d5cb857",
   "metadata": {},
   "source": [
    "## Find worker ID from MTurk results in Google Form"
   ]
  },
  {
   "cell_type": "markdown",
   "id": "1bdd2f77",
   "metadata": {},
   "source": [
    "### Import MTurk results"
   ]
  },
  {
   "cell_type": "code",
   "execution_count": null,
   "id": "97ab57f2",
   "metadata": {},
   "outputs": [],
   "source": [
    "MTurk_Results = \"Batch_xxx_batch_results.csv\"\n",
    "# Auto encoding tool\n",
    "with open(MTurk_Results, 'rb') as f:\n",
    "    enc = chardet.detect(f.read())  # or readline if the file is large\n",
    "\n",
    "df_MTurk_results= pd.read_csv(MTurk_Results, encoding = enc['encoding'])\n",
    "df_MTurk_results"
   ]
  },
  {
   "cell_type": "markdown",
   "id": "8c0b94b9",
   "metadata": {},
   "source": [
    "### Loop through each result and look for matching worker ID from Google Form response"
   ]
  },
  {
   "cell_type": "code",
   "execution_count": null,
   "id": "7f7611a6",
   "metadata": {
    "scrolled": true
   },
   "outputs": [],
   "source": [
    "count = 0\n",
    "\n",
    "# Match each worker by iterating through the df\n",
    "for index in df_MTurk_results.index:\n",
    "    \n",
    "    Worker_ID_MTurk_Result = df_MTurk_results['WorkerId'][index].replace(\" \", \"\")\n",
    "    print('\\nLooking for matching ID:',Worker_ID_MTurk_Result)\n",
    "    \n",
    "    for index in df_raw_response.index:\n",
    "        if (Worker_ID_MTurk_Result == df_raw_response['Worker_ID'][index].replace(\" \", \"\")):\n",
    "            print('Matching response found for: ',Worker_ID_MTurk_Result)\n",
    "            break\n",
    "    else:\n",
    "        print('Cannot find matching response for worker: ',Worker_ID_MTurk_Result)\n",
    "        count += 1\n",
    "    \n",
    "\n",
    "print(count,'malicious workers have been detected in total')"
   ]
  },
  {
   "cell_type": "markdown",
   "id": "cdc4509a",
   "metadata": {},
   "source": [
    "# Approve results based on Google Form submission"
   ]
  },
  {
   "cell_type": "markdown",
   "id": "befb9b00",
   "metadata": {},
   "source": [
    "##### https://boto3.amazonaws.com/v1/documentation/api/latest/reference/services/mturk.html#MTurk.Client.approve_assignment"
   ]
  },
  {
   "cell_type": "code",
   "execution_count": 8,
   "id": "43590afc",
   "metadata": {},
   "outputs": [],
   "source": [
    "import boto3\n",
    "client = boto3.client('mturk')\n",
    "HIT_ID = 'xxxxxxxxxxxxxxx'\n",
    "Worker_ID = ''"
   ]
  },
  {
   "cell_type": "code",
   "execution_count": 9,
   "id": "e6607354",
   "metadata": {},
   "outputs": [],
   "source": [
    "All_Submitted_Assignment_Results = client.list_assignments_for_hit(\n",
    "    HITId=HIT_ID,\n",
    "    MaxResults=100,\n",
    "    AssignmentStatuses=[\n",
    "        'Submitted'\n",
    "    ]\n",
    ")"
   ]
  },
  {
   "cell_type": "markdown",
   "id": "2abd45ec",
   "metadata": {},
   "source": [
    "## Loop through each assignment and approve those with a matching ID in Google Form"
   ]
  },
  {
   "cell_type": "code",
   "execution_count": null,
   "id": "be24c825",
   "metadata": {},
   "outputs": [],
   "source": [
    "count_approve_assignment = 0\n",
    "count_approve_assignment_error = 0\n",
    "count_malicious = 0\n",
    "\n",
    "for i in range(len(All_Submitted_Assignment_Results['Assignments'])):\n",
    "    \n",
    "    Worker_ID = All_Submitted_Assignment_Results['Assignments'][i]['WorkerId']\n",
    "    \n",
    "    # Look for matching ID from Google Form responses\n",
    "    for index in df_raw_response.index:\n",
    "        if (Worker_ID == df_raw_response['Worker_ID'][index].replace(\" \", \"\")):\n",
    "            print('Matching response found for: ',Worker_ID)\n",
    "            \n",
    "            response = client.approve_assignment(\n",
    "                AssignmentId = All_Submitted_Assignment_Results['Assignments'][i]['AssignmentId'],\n",
    "                RequesterFeedback = 'Thank you for submitting survey response.'\n",
    "            )\n",
    "            \n",
    "            if (response[\"ResponseMetadata\"][\"HTTPStatusCode\"] == 200):\n",
    "                print('Successfully approve_assignment for WorkerId: ',Worker_ID)\n",
    "                count_approve_assignment += 1\n",
    "            else:\n",
    "                print('Failed to approve_assignment for WorkerId: ',Worker_ID)\n",
    "                count_approve_assignment_error += 1\n",
    "            \n",
    "            break\n",
    "            \n",
    "                \n",
    "    else:\n",
    "        print('Cannot find matching response for worker: ',Worker_ID)\n",
    "        \n",
    "        response = client.reject_assignment(\n",
    "                AssignmentId = All_Submitted_Assignment_Results['Assignments'][i]['AssignmentId'],\n",
    "                RequesterFeedback = 'Unfortunately we did not receive your survey response.'\n",
    "            )\n",
    "        if (response[\"ResponseMetadata\"][\"HTTPStatusCode\"] == 200):\n",
    "            print('Successfully reject_assignment for WorkerId: ',Worker_ID)\n",
    "        else:\n",
    "            print('Failed to reject_assignment for WorkerId: ',Worker_ID)\n",
    "\n",
    "        count_malicious += 1\n",
    "\n",
    "print(count_approve_assignment,'were approved in total')\n",
    "print(count_approve_assignment_error,'encountered errors in approval attempts')\n",
    "print(count_malicious,'malicious submissions were rejected')"
   ]
  }
 ],
 "metadata": {
  "kernelspec": {
   "display_name": "Python 3 (ipykernel)",
   "language": "python",
   "name": "python3"
  },
  "language_info": {
   "codemirror_mode": {
    "name": "ipython",
    "version": 3
   },
   "file_extension": ".py",
   "mimetype": "text/x-python",
   "name": "python",
   "nbconvert_exporter": "python",
   "pygments_lexer": "ipython3",
   "version": "3.9.13"
  }
 },
 "nbformat": 4,
 "nbformat_minor": 5
}
